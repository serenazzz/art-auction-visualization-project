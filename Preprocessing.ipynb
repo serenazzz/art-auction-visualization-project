{
 "cells": [
  {
   "cell_type": "code",
   "execution_count": null,
   "metadata": {
    "ExecuteTime": {
     "end_time": "2018-04-07T20:46:19.321780Z",
     "start_time": "2018-04-07T20:46:17.827353Z"
    }
   },
   "outputs": [],
   "source": [
    "import pandas as pd\n",
    "import numpy as np\n",
    "import matplotlib.pyplot as plt\n",
    "import missingno as msno # pip3 install missingno\n",
    "import seaborn as sns \n",
    "sns.set_style(\"whitegrid\")\n",
    "%matplotlib inline\n",
    "\n",
    "pd.options.display.max_rows = 999\n",
    "pd.options.display.max_columns = 999"
   ]
  },
  {
   "cell_type": "markdown",
   "metadata": {},
   "source": [
    "## 1. Load Data"
   ]
  },
  {
   "cell_type": "code",
   "execution_count": null,
   "metadata": {
    "ExecuteTime": {
     "end_time": "2018-04-07T20:46:19.995994Z",
     "start_time": "2018-04-07T20:46:19.328321Z"
    }
   },
   "outputs": [],
   "source": [
    "df=pd.read_csv(\"sothebys.csv\", index_col=0)"
   ]
  },
  {
   "cell_type": "code",
   "execution_count": null,
   "metadata": {
    "ExecuteTime": {
     "end_time": "2018-04-07T20:46:20.001211Z",
     "start_time": "2018-04-07T20:46:19.997151Z"
    }
   },
   "outputs": [],
   "source": [
    "df.shape\n",
    "display(df.head())"
   ]
  },
  {
   "cell_type": "code",
   "execution_count": null,
   "metadata": {
    "ExecuteTime": {
     "end_time": "2018-04-07T20:46:20.081040Z",
     "start_time": "2018-04-07T20:46:20.002558Z"
    }
   },
   "outputs": [],
   "source": [
    "#convert datatime columns\n",
    "df.start_date =pd.to_datetime(df.start_date)\n",
    "df.end_date =pd.to_datetime(df.end_date)"
   ]
  },
  {
   "cell_type": "code",
   "execution_count": null,
   "metadata": {
    "ExecuteTime": {
     "end_time": "2018-04-07T20:46:20.094187Z",
     "start_time": "2018-04-07T20:46:20.082574Z"
    }
   },
   "outputs": [],
   "source": [
    "# Check Auction length\n",
    "cnt=np.where(df[\"end_date\"]!=df[\"start_date\"],1,0).sum()\n",
    "#cnt=0\n",
    "df.drop(\"end_date\",axis=1,inplace=True)"
   ]
  },
  {
   "cell_type": "markdown",
   "metadata": {},
   "source": [
    "Therefore, we'll use $start\\_date$ as the time that the auction occured going forward. "
   ]
  },
  {
   "cell_type": "code",
   "execution_count": null,
   "metadata": {
    "ExecuteTime": {
     "end_time": "2018-04-07T20:46:20.115259Z",
     "start_time": "2018-04-07T20:46:20.097424Z"
    }
   },
   "outputs": [],
   "source": [
    "#clean up birth_year\n",
    "df.birth_year=pd.to_numeric(df.birth_year,errors='coerce').fillna(0).astype(np.int64)"
   ]
  },
  {
   "cell_type": "markdown",
   "metadata": {},
   "source": [
    "## 2. Add Features"
   ]
  },
  {
   "cell_type": "code",
   "execution_count": null,
   "metadata": {
    "ExecuteTime": {
     "end_time": "2018-04-07T20:46:21.110403Z",
     "start_time": "2018-04-07T20:46:21.021890Z"
    }
   },
   "outputs": [],
   "source": [
    "# Add year, month and season for auction time\n",
    "df[\"auc_date\"] = pd.DatetimeIndex(df.start_date).normalize()\n",
    "df['auc_year'] = pd.DatetimeIndex(df['start_date']).year\n",
    "df['auc_month'] = pd.DatetimeIndex(df['start_date']).month\n",
    "df['auc_season'] = df[\"start_date\"].apply(lambda dt: (dt.month%12 + 3)//3)\n",
    "\n",
    "df.head()"
   ]
  },
  {
   "cell_type": "code",
   "execution_count": null,
   "metadata": {
    "ExecuteTime": {
     "end_time": "2018-04-07T20:46:21.255747Z",
     "start_time": "2018-04-07T20:46:21.231705Z"
    }
   },
   "outputs": [],
   "source": [
    "# Add a boolean column to indicate if the lot is named \"untitled\"\n",
    "words='|'.join([\"INTITULADO\",\"UNTITLED\",\"OHNE TITEL\",\"SANS TITRE\",\"SENZA TITOLO\"])\n",
    "df[\"is_untitled\"]=np.where(df[\"lot_title\"].str.contains(words), 1, 0)\n",
    "df.is_untitled.value_counts()"
   ]
  },
  {
   "cell_type": "code",
   "execution_count": null,
   "metadata": {
    "ExecuteTime": {
     "end_time": "2018-04-07T20:46:21.655119Z",
     "start_time": "2018-04-07T20:46:21.436871Z"
    }
   },
   "outputs": [],
   "source": [
    "# Normalize \"nth_in_auction\" column by \"auction_id\" into 10 tiles\n",
    "df[\"auc_order\"]= df.groupby(\"auction_id\")[\"nth_in_auction\"].transform(\n",
    "                     lambda x: pd.qcut(x, 10, labels=range(1,11))) \n",
    "\n",
    "df.head()"
   ]
  },
  {
   "cell_type": "code",
   "execution_count": null,
   "metadata": {
    "ExecuteTime": {
     "end_time": "2018-04-07T20:46:21.669818Z",
     "start_time": "2018-04-07T20:46:21.656253Z"
    }
   },
   "outputs": [],
   "source": [
    "# Add avg_estimate\n",
    "df = df.dropna(subset=['estimate_low', 'estimate_high', 'hammer_price_bp'])\n",
    "\n",
    "df[\"estimate_avg\"]=(df[\"estimate_low\"] + df[\"estimate_high\"])/2\n",
    "\n",
    "msno.matrix(df)"
   ]
  },
  {
   "cell_type": "markdown",
   "metadata": {},
   "source": [
    "## 3. Convert Currency"
   ]
  },
  {
   "cell_type": "code",
   "execution_count": null,
   "metadata": {},
   "outputs": [],
   "source": [
    "# pip install --user currencyconverter\n",
    "from currency_converter import CurrencyConverter\n",
    "from datetime import datetime\n",
    "c = CurrencyConverter(fallback_on_wrong_date=True, fallback_on_missing_rate=True)\n",
    "\n",
    "hammer_price = df[['hammer_price_bp', 'currency', 'start_date']].copy()\n",
    "est_low = df[['estimate_low', 'currency', 'start_date']].copy()\n",
    "est_high = df[['estimate_high', 'currency', 'start_date']].copy()\n",
    "est_avg = df[['estimate_avg', 'currency', 'start_date']].copy()\n",
    "\n",
    "hammer_price.start_date = hammer_price.start_date.apply(lambda x: x.strftime('%Y-%m-%d') if not pd.isnull(x) else x)\n",
    "est_low.start_date = est_low.start_date.apply(lambda x: x.strftime('%Y-%m-%d') if not pd.isnull(x) else x)\n",
    "est_high.start_date = est_high.start_date.apply(lambda x: x.strftime('%Y-%m-%d') if not pd.isnull(x) else x)\n",
    "est_avg.start_date = est_avg.start_date.apply(lambda x: x.strftime('%Y-%m-%d') if not pd.isnull(x) else x)\n",
    "\n",
    "df['hammer_price_bp_usd'] = np.apply_along_axis(lambda x: np.round(c.convert(x[0], x[1], 'USD', date=pd.to_datetime(x[2])), 2), 1, hammer_price)\n",
    "df['estimate_low_usd'] = np.apply_along_axis(lambda x: np.round(c.convert(x[0], x[1], 'USD', date=pd.to_datetime(x[2])), 2), 1, est_low)    \n",
    "df['estimate_high_usd'] = np.apply_along_axis(lambda x: np.round(c.convert(x[0], x[1], 'USD', date=pd.to_datetime(x[2])), 2), 1, est_high)\n",
    "df['estimate_avg_usd'] = np.apply_along_axis(lambda x: np.round(c.convert(x[0], x[1], 'USD', date=pd.to_datetime(x[2])), 2), 1, est_avg)\n",
    " \n",
    "\n",
    "display(df.head())\n"
   ]
  },
  {
   "cell_type": "markdown",
   "metadata": {},
   "source": [
    "## 4. Export to CSV"
   ]
  },
  {
   "cell_type": "code",
   "execution_count": null,
   "metadata": {
    "ExecuteTime": {
     "start_time": "2018-04-07T20:46:23.034Z"
    }
   },
   "outputs": [],
   "source": [
    "df.to_csv(\"final_sothebys.csv\")"
   ]
  },
  {
   "cell_type": "code",
   "execution_count": null,
   "metadata": {},
   "outputs": [],
   "source": []
  }
 ],
 "metadata": {
  "kernelspec": {
   "display_name": "Python 3",
   "language": "python",
   "name": "python3"
  },
  "language_info": {
   "codemirror_mode": {
    "name": "ipython",
    "version": 3
   },
   "file_extension": ".py",
   "mimetype": "text/x-python",
   "name": "python",
   "nbconvert_exporter": "python",
   "pygments_lexer": "ipython3",
   "version": "3.6.4"
  }
 },
 "nbformat": 4,
 "nbformat_minor": 2
}
