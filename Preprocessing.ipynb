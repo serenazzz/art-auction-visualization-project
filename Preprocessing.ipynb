{
 "cells": [
  {
   "cell_type": "code",
   "execution_count": 1,
   "metadata": {
    "ExecuteTime": {
     "end_time": "2018-04-07T20:18:15.996356Z",
     "start_time": "2018-04-07T20:18:14.983839Z"
    },
    "collapsed": true
   },
   "outputs": [],
   "source": [
    "import pandas as pd\n",
    "import numpy as np\n",
    "import matplotlib.pyplot as plt\n",
    "import seaborn as sns\n",
    "sns.set_style(\"whitegrid\")\n",
    "%matplotlib inline"
   ]
  },
  {
   "cell_type": "markdown",
   "metadata": {},
   "source": [
    "## 1. Load Data"
   ]
  },
  {
   "cell_type": "code",
   "execution_count": 2,
   "metadata": {
    "ExecuteTime": {
     "end_time": "2018-04-07T20:18:16.648739Z",
     "start_time": "2018-04-07T20:18:16.001323Z"
    },
    "collapsed": true
   },
   "outputs": [],
   "source": [
    "df=pd.read_csv(\"sothebys.csv\")"
   ]
  },
  {
   "cell_type": "code",
   "execution_count": 3,
   "metadata": {
    "ExecuteTime": {
     "end_time": "2018-04-07T20:18:16.653581Z",
     "start_time": "2018-04-07T20:18:16.650079Z"
    }
   },
   "outputs": [
    {
     "data": {
      "text/plain": [
       "(22711, 26)"
      ]
     },
     "execution_count": 3,
     "metadata": {},
     "output_type": "execute_result"
    }
   ],
   "source": [
    "df.shape"
   ]
  },
  {
   "cell_type": "code",
   "execution_count": 4,
   "metadata": {
    "ExecuteTime": {
     "end_time": "2018-04-07T20:18:16.734539Z",
     "start_time": "2018-04-07T20:18:16.654913Z"
    },
    "collapsed": true
   },
   "outputs": [],
   "source": [
    "#convert datatime columns\n",
    "df.start_date =pd.to_datetime(df.start_date)\n",
    "df.end_date =pd.to_datetime(df.end_date)"
   ]
  },
  {
   "cell_type": "code",
   "execution_count": 5,
   "metadata": {
    "ExecuteTime": {
     "end_time": "2018-04-07T20:18:16.747062Z",
     "start_time": "2018-04-07T20:18:16.735964Z"
    },
    "collapsed": true
   },
   "outputs": [],
   "source": [
    "# Check Auction length\n",
    "cnt=np.where(df[\"end_date\"]!=df[\"start_date\"],1,0).sum()\n",
    "#cnt=0\n",
    "df.drop(\"end_date\",axis=1,inplace=True)"
   ]
  },
  {
   "cell_type": "markdown",
   "metadata": {},
   "source": [
    "Therefore, we'll use $start\\_date$ as the time that the auction occured going forward. "
   ]
  },
  {
   "cell_type": "markdown",
   "metadata": {},
   "source": [
    "## 2. Add Features"
   ]
  },
  {
   "cell_type": "code",
   "execution_count": 6,
   "metadata": {
    "ExecuteTime": {
     "end_time": "2018-04-07T20:18:16.957706Z",
     "start_time": "2018-04-07T20:18:16.842489Z"
    },
    "collapsed": true
   },
   "outputs": [],
   "source": [
    "# Add year,month and season for acution time\n",
    "df[\"auc_date\"]=pd.DatetimeIndex(df.start_date).normalize()\n",
    "df['auc_year'] = pd.DatetimeIndex(df['start_date']).year\n",
    "df['auc_month'] = pd.DatetimeIndex(df['start_date']).month\n",
    "df['auc_season']=df[\"start_date\"].apply(lambda dt: (dt.month%12 + 3)//3)"
   ]
  },
  {
   "cell_type": "code",
   "execution_count": 8,
   "metadata": {
    "ExecuteTime": {
     "end_time": "2018-04-07T20:18:28.192504Z",
     "start_time": "2018-04-07T20:18:28.165378Z"
    },
    "collapsed": true
   },
   "outputs": [],
   "source": [
    "# Add a column to indicate if the lot is named \"untitled\"\n",
    "words='|'.join([\"INTITULADO\",\"UNTITLED\",\"OHNE TITEL\",\"SANS TITRE\",\"SENZA TITOLO\"])\n",
    "df[\"untitled?\"]=np.where(df[\"lot_title\"].str.contains(words),1,0)"
   ]
  },
  {
   "cell_type": "code",
   "execution_count": 10,
   "metadata": {
    "ExecuteTime": {
     "end_time": "2018-04-07T20:18:36.421929Z",
     "start_time": "2018-04-07T20:18:36.220682Z"
    }
   },
   "outputs": [],
   "source": [
    "# Normalize \"nth_in_auction\" column by \"auction_id\" into 10 tiles\n",
    "df[\"auc_order\"]= df.groupby(\"auction_id\")[\"nth_in_auction\"].transform(\n",
    "                     lambda x: pd.qcut(x, 10, labels=range(1,11))) "
   ]
  },
  {
   "cell_type": "code",
   "execution_count": 11,
   "metadata": {
    "ExecuteTime": {
     "end_time": "2018-04-07T20:18:37.626719Z",
     "start_time": "2018-04-07T20:18:37.611964Z"
    },
    "collapsed": true
   },
   "outputs": [],
   "source": [
    "# Add avg_estimate\n",
    "df[\"avg_estimate\"]=(df[\"estimate_low\"]+df[\"estimate_high\"])/2"
   ]
  },
  {
   "cell_type": "markdown",
   "metadata": {},
   "source": [
    "## 3. Convert Currency"
   ]
  },
  {
   "cell_type": "code",
   "execution_count": null,
   "metadata": {
    "collapsed": true
   },
   "outputs": [],
   "source": []
  },
  {
   "cell_type": "markdown",
   "metadata": {},
   "source": [
    "## 4. Export to CSV"
   ]
  },
  {
   "cell_type": "code",
   "execution_count": null,
   "metadata": {
    "ExecuteTime": {
     "start_time": "2018-04-07T20:18:39.949Z"
    },
    "collapsed": true
   },
   "outputs": [],
   "source": [
    "df.to_csv(\"final_sothebys.csv\")"
   ]
  },
  {
   "cell_type": "code",
   "execution_count": null,
   "metadata": {
    "collapsed": true
   },
   "outputs": [],
   "source": []
  }
 ],
 "metadata": {
  "kernelspec": {
   "display_name": "Python 3",
   "language": "python",
   "name": "python3"
  },
  "language_info": {
   "codemirror_mode": {
    "name": "ipython",
    "version": 3
   },
   "file_extension": ".py",
   "mimetype": "text/x-python",
   "name": "python",
   "nbconvert_exporter": "python",
   "pygments_lexer": "ipython3",
   "version": "3.6.3"
  }
 },
 "nbformat": 4,
 "nbformat_minor": 2
}
