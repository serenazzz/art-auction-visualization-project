{
 "cells": [
  {
   "cell_type": "code",
   "execution_count": 1,
   "metadata": {
    "ExecuteTime": {
     "end_time": "2018-04-06T20:44:08.368977Z",
     "start_time": "2018-04-06T20:44:07.386597Z"
    }
   },
   "outputs": [],
   "source": [
    "import pandas as pd\n",
    "import numpy as np\n",
    "import matplotlib.pyplot as plt\n",
    "import seaborn as sns\n",
    "sns.set_style(\"whitegrid\")\n",
    "%matplotlib inline"
   ]
  },
  {
   "cell_type": "markdown",
   "metadata": {},
   "source": [
    "## 1. Load Data"
   ]
  },
  {
   "cell_type": "code",
   "execution_count": 2,
   "metadata": {
    "ExecuteTime": {
     "end_time": "2018-04-06T20:44:08.977149Z",
     "start_time": "2018-04-06T20:44:08.370274Z"
    },
    "collapsed": true
   },
   "outputs": [],
   "source": [
    "df=pd.read_csv(\"sothebys_data.csv\")"
   ]
  },
  {
   "cell_type": "code",
   "execution_count": 3,
   "metadata": {
    "ExecuteTime": {
     "end_time": "2018-04-06T20:44:08.982948Z",
     "start_time": "2018-04-06T20:44:08.978837Z"
    }
   },
   "outputs": [
    {
     "data": {
      "text/plain": [
       "(22711, 20)"
      ]
     },
     "execution_count": 3,
     "metadata": {},
     "output_type": "execute_result"
    }
   ],
   "source": [
    "df.shape"
   ]
  },
  {
   "cell_type": "code",
   "execution_count": 4,
   "metadata": {
    "ExecuteTime": {
     "end_time": "2018-04-06T20:44:09.072860Z",
     "start_time": "2018-04-06T20:44:08.984719Z"
    },
    "collapsed": true
   },
   "outputs": [],
   "source": [
    "#convert datatime columns\n",
    "df.start_date =pd.to_datetime(df.start_date)\n",
    "df.end_date =pd.to_datetime(df.end_date)"
   ]
  },
  {
   "cell_type": "code",
   "execution_count": 5,
   "metadata": {
    "ExecuteTime": {
     "end_time": "2018-04-06T20:44:09.087891Z",
     "start_time": "2018-04-06T20:44:09.075120Z"
    },
    "collapsed": true
   },
   "outputs": [],
   "source": [
    "# Check Auction length\n",
    "cnt=np.where(df[\"end_date\"]!=df[\"start_date\"],1,0).sum()\n",
    "#cnt=0\n",
    "df.drop(\"end_date\",axis=1,inplace=True)"
   ]
  },
  {
   "cell_type": "markdown",
   "metadata": {},
   "source": [
    "Therefore, we'll use $start\\_date$ as the time that the auction occured going forward. "
   ]
  },
  {
   "cell_type": "markdown",
   "metadata": {},
   "source": [
    "## 2. Add Features"
   ]
  },
  {
   "cell_type": "code",
   "execution_count": 6,
   "metadata": {
    "ExecuteTime": {
     "end_time": "2018-04-06T20:44:09.631450Z",
     "start_time": "2018-04-06T20:44:09.525842Z"
    },
    "collapsed": true
   },
   "outputs": [],
   "source": [
    "# Add year,month and season for acution time\n",
    "df['auc_year'] = pd.DatetimeIndex(df['start_date']).year\n",
    "df['auc_month'] = pd.DatetimeIndex(df['start_date']).month\n",
    "df['auc_season']=df[\"start_date\"].apply(lambda dt: (dt.month%12 + 3)//3)"
   ]
  },
  {
   "cell_type": "code",
   "execution_count": 7,
   "metadata": {
    "ExecuteTime": {
     "end_time": "2018-04-06T20:44:09.870031Z",
     "start_time": "2018-04-06T20:44:09.866263Z"
    }
   },
   "outputs": [
    {
     "data": {
      "text/plain": [
       "'SANS TITRE'"
      ]
     },
     "execution_count": 7,
     "metadata": {},
     "output_type": "execute_result"
    }
   ],
   "source": [
    "\"sans titre\".upper()"
   ]
  },
  {
   "cell_type": "code",
   "execution_count": 8,
   "metadata": {
    "ExecuteTime": {
     "end_time": "2018-04-06T20:44:10.140283Z",
     "start_time": "2018-04-06T20:44:10.111507Z"
    }
   },
   "outputs": [],
   "source": [
    "# Add a column to indicate if the lot is named \"untitled\"\n",
    "words='|'.join([\"INTITULADO\",\"UNTITLED\",\"OHNE TITEL\",\"SANS TITRE\"])\n",
    "df[\"untitled?\"]=np.where(df[\"lot_title\"].str.contains(words),1,0)"
   ]
  },
  {
   "cell_type": "code",
   "execution_count": 9,
   "metadata": {
    "ExecuteTime": {
     "end_time": "2018-04-06T20:44:10.474122Z",
     "start_time": "2018-04-06T20:44:10.357422Z"
    },
    "collapsed": true
   },
   "outputs": [],
   "source": [
    "# Normalize \"nth_in_auction\" column by \"auction_id\" into 10 tiles\n",
    "#need to change to auc_id once data available\n",
    "df[\"auc_order\"]= df.groupby(\"auc_title\")[\"nth_in_auction\"].transform(\n",
    "                     lambda x: pd.qcut(x, 10, labels=range(1,11))) "
   ]
  },
  {
   "cell_type": "code",
   "execution_count": 10,
   "metadata": {
    "ExecuteTime": {
     "end_time": "2018-04-06T20:44:10.603450Z",
     "start_time": "2018-04-06T20:44:10.594730Z"
    }
   },
   "outputs": [],
   "source": [
    "# Add avg_estimate\n",
    "df[\"avg_estimate\"]=(df[\"estimate_low\"]+df[\"estimate_high\"])/2"
   ]
  },
  {
   "cell_type": "markdown",
   "metadata": {},
   "source": [
    "## 3. Convert Currency"
   ]
  },
  {
   "cell_type": "markdown",
   "metadata": {},
   "source": [
    "## 4. Dealing with Missing Values"
   ]
  },
  {
   "cell_type": "code",
   "execution_count": 11,
   "metadata": {
    "ExecuteTime": {
     "end_time": "2018-04-06T20:44:12.443852Z",
     "start_time": "2018-04-06T20:44:12.417151Z"
    }
   },
   "outputs": [
    {
     "data": {
      "text/plain": [
       "lot_title              True\n",
       "estimate_low           True\n",
       "estimate_high          True\n",
       "hammer_price_bp        True\n",
       "currency               True\n",
       "nth_in_auction        False\n",
       "lot_number            False\n",
       "condition              True\n",
       "provenance             True\n",
       "literature             True\n",
       "external_image_url    False\n",
       "auc_title             False\n",
       "number_of_lots        False\n",
       "location              False\n",
       "start_date            False\n",
       "auc_desc               True\n",
       "name                  False\n",
       "birth_year             True\n",
       "death_year             True\n",
       "auc_year              False\n",
       "auc_month             False\n",
       "auc_season            False\n",
       "untitled?             False\n",
       "auc_order             False\n",
       "avg_estimate           True\n",
       "dtype: bool"
      ]
     },
     "execution_count": 11,
     "metadata": {},
     "output_type": "execute_result"
    }
   ],
   "source": [
    "df.isnull().any()"
   ]
  },
  {
   "cell_type": "code",
   "execution_count": 12,
   "metadata": {
    "ExecuteTime": {
     "end_time": "2018-04-06T20:44:14.280060Z",
     "start_time": "2018-04-06T20:44:14.271645Z"
    }
   },
   "outputs": [
    {
     "data": {
      "text/plain": [
       "NEW YORK     9674\n",
       "LONDON       6317\n",
       "PARIS        2543\n",
       "AMSTERDAM    2217\n",
       "MILAN        1381\n",
       "HONG KONG     458\n",
       "DOHA           67\n",
       "DUBAI          54\n",
       "Name: location, dtype: int64"
      ]
     },
     "execution_count": 12,
     "metadata": {},
     "output_type": "execute_result"
    }
   ],
   "source": [
    "df.location.value_counts()"
   ]
  },
  {
   "cell_type": "code",
   "execution_count": 19,
   "metadata": {},
   "outputs": [
    {
     "data": {
      "text/plain": [
       "(1449, 20)"
      ]
     },
     "execution_count": 19,
     "metadata": {},
     "output_type": "execute_result"
    }
   ],
   "source": [
    "df[df.hammer_price_bp<df.estimate_low].shape"
   ]
  },
  {
   "cell_type": "code",
   "execution_count": 20,
   "metadata": {},
   "outputs": [
    {
     "data": {
      "text/plain": [
       "(22711, 20)"
      ]
     },
     "execution_count": 20,
     "metadata": {},
     "output_type": "execute_result"
    }
   ],
   "source": [
    "df.shape"
   ]
  },
  {
   "cell_type": "code",
   "execution_count": 21,
   "metadata": {},
   "outputs": [
    {
     "data": {
      "text/plain": [
       "0.06380168200431509"
      ]
     },
     "execution_count": 21,
     "metadata": {},
     "output_type": "execute_result"
    }
   ],
   "source": [
    "1449/22711"
   ]
  },
  {
   "cell_type": "code",
   "execution_count": 51,
   "metadata": {
    "ExecuteTime": {
     "end_time": "2018-04-06T20:43:48.367313Z",
     "start_time": "2018-04-06T20:43:48.363924Z"
    }
   },
   "outputs": [
    {
     "data": {
      "text/plain": [
       "'\\ncheck=df.loc[df[\"untitled?\"]==1][\"lot_title\"]\\ncheck[check.str.contains(\"UNTITLED\")==False]\\n'"
      ]
     },
     "execution_count": 51,
     "metadata": {},
     "output_type": "execute_result"
    }
   ],
   "source": [
    "'''\n",
    "check=df.loc[df[\"untitled?\"]==1][\"lot_title\"]\n",
    "check[check.str.contains(\"UNTITLED\")==False]\n",
    "'''"
   ]
  },
  {
   "cell_type": "markdown",
   "metadata": {},
   "source": [
    "## Exploratory Analysis"
   ]
  },
  {
   "cell_type": "code",
   "execution_count": 29,
   "metadata": {
    "ExecuteTime": {
     "end_time": "2018-04-06T19:58:15.509045Z",
     "start_time": "2018-04-06T19:58:15.086696Z"
    }
   },
   "outputs": [
    {
     "data": {
      "text/plain": [
       "<matplotlib.axes._subplots.AxesSubplot at 0x1127417b8>"
      ]
     },
     "execution_count": 29,
     "metadata": {},
     "output_type": "execute_result"
    },
    {
     "data": {
      "image/png": "[encoded data removed]",
      "text/plain": [
       "<matplotlib.figure.Figure at 0x2081687f0>"
      ]
     },
     "metadata": {},
     "output_type": "display_data"
    }
   ],
   "source": [
    "sns.distplot(df.auc_year)"
   ]
  },
  {
   "cell_type": "code",
   "execution_count": 24,
   "metadata": {
    "ExecuteTime": {
     "end_time": "2018-04-06T20:22:19.640114Z",
     "start_time": "2018-04-06T20:22:19.478933Z"
    }
   },
   "outputs": [
    {
     "data": {
      "text/plain": [
       "<matplotlib.axes._subplots.AxesSubplot at 0x1191aab38>"
      ]
     },
     "execution_count": 24,
     "metadata": {},
     "output_type": "execute_result"
    },
    {
     "data": {
      "image/png": "[encoded data removed]",
      "text/plain": [
       "<matplotlib.figure.Figure at 0x116c21f28>"
      ]
     },
     "metadata": {},
     "output_type": "display_data"
    }
   ],
   "source": [
    "sns.countplot(y=df.location)\n"
   ]
  },
  {
   "cell_type": "code",
   "execution_count": null,
   "metadata": {
    "collapsed": true
   },
   "outputs": [],
   "source": []
  }
 ],
 "metadata": {
  "kernelspec": {
   "display_name": "Python 3",
   "language": "python",
   "name": "python3"
  },
  "language_info": {
   "codemirror_mode": {
    "name": "ipython",
    "version": 3
   },
   "file_extension": ".py",
   "mimetype": "text/x-python",
   "name": "python",
   "nbconvert_exporter": "python",
   "pygments_lexer": "ipython3",
   "version": "3.6.3"
  }
 },
 "nbformat": 4,
 "nbformat_minor": 2
}
